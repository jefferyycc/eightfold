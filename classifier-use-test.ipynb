{
 "cells": [
  {
   "cell_type": "markdown",
   "metadata": {},
   "source": [
    "# Seniority Classifier #"
   ]
  },
  {
   "cell_type": "markdown",
   "metadata": {},
   "source": [
    "Given a profile’s education and experience history, classify their seniority into the following buckets\n",
    "1. Intern\n",
    "2. Entry\n",
    "3. Mid Level\n",
    "4. Senior\n",
    "5. Manager\n",
    "6. Director\n",
    "7. Vice President\n",
    "8. CXO"
   ]
  },
  {
   "cell_type": "markdown",
   "metadata": {},
   "source": [
    "Data Source: \n",
    "    [training data](https://eightfold-ml-take-home-data.s3-us-west-1.amazonaws.com/seniority-classifier/seniority.train) and [testing data](https://eightfold-ml-take-home-data.s3-us-west-1.amazonaws.com/seniority-classifier/seniority.test)"
   ]
  },
  {
   "cell_type": "code",
   "execution_count": 1,
   "metadata": {},
   "outputs": [],
   "source": [
    "from __future__ import print_function\n",
    "\n",
    "from time import time\n",
    "import logging\n",
    "import warnings"
   ]
  },
  {
   "cell_type": "code",
   "execution_count": 2,
   "metadata": {},
   "outputs": [],
   "source": [
    "import pandas as pd\n",
    "import numpy as np\n",
    "import matplotlib.mlab as mlab\n",
    "import matplotlib.pyplot as plt\n",
    "import json\n",
    "\n",
    "# from sklearn.svm import SVC\n",
    "from sklearn import linear_model\n",
    "from sklearn import tree\n",
    "from sklearn.tree import DecisionTreeClassifier\n",
    "# from sklearn.grid_search import GridSearchCV\n",
    "from sklearn.model_selection import learning_curve, GridSearchCV, cross_val_score, train_test_split"
   ]
  },
  {
   "cell_type": "code",
   "execution_count": 3,
   "metadata": {},
   "outputs": [],
   "source": [
    "from collections import Counter\n",
    "from datetime import datetime\n",
    "import seaborn as sns # data visualization\n",
    "from scipy.stats import norm"
   ]
  },
  {
   "cell_type": "markdown",
   "metadata": {},
   "source": [
    "Read training and testing data"
   ]
  },
  {
   "cell_type": "code",
   "execution_count": 4,
   "metadata": {},
   "outputs": [],
   "source": [
    "data_size_train = data_size_test = 1000"
   ]
  },
  {
   "cell_type": "code",
   "execution_count": 5,
   "metadata": {
    "scrolled": false
   },
   "outputs": [],
   "source": [
    "# file_train = open(\"seniority.train\", \"r\")\n",
    "# data_train = []\n",
    "# for idx, entry in enumerate(file_train):\n",
    "#     if idx < data_size_train:\n",
    "#         data = json.loads(entry)\n",
    "# #         data['seniority_level'] = 'Undefined' # the 'seniority_level' label is missing!\n",
    "#         data_train.append(data)\n",
    "#     else:\n",
    "#         break\n",
    "\n",
    "# # data_train[0]"
   ]
  },
  {
   "cell_type": "code",
   "execution_count": 6,
   "metadata": {},
   "outputs": [],
   "source": [
    "file_train = open(\"seniority.test\", \"r\")\n",
    "data_train = []\n",
    "for idx, entry in enumerate(file_train):\n",
    "    if idx < data_size_train:\n",
    "        data = json.loads(entry)\n",
    "        data_train.append(data)\n",
    "    else:\n",
    "        break\n",
    "\n",
    "# data_train[0]"
   ]
  },
  {
   "cell_type": "code",
   "execution_count": 7,
   "metadata": {},
   "outputs": [
    {
     "data": {
      "text/plain": [
       "dict_keys(['seniority_level', 'education', 'experience'])"
      ]
     },
     "execution_count": 7,
     "metadata": {},
     "output_type": "execute_result"
    }
   ],
   "source": [
    "data_train[0].keys() # the 'seniority_level' label is missing!"
   ]
  },
  {
   "cell_type": "code",
   "execution_count": 8,
   "metadata": {},
   "outputs": [
    {
     "data": {
      "text/plain": [
       "1000"
      ]
     },
     "execution_count": 8,
     "metadata": {},
     "output_type": "execute_result"
    }
   ],
   "source": [
    "len(data_train)"
   ]
  },
  {
   "cell_type": "code",
   "execution_count": 9,
   "metadata": {},
   "outputs": [],
   "source": [
    "file_test = open(\"seniority.test\", \"r\")\n",
    "data_test = []\n",
    "for idx, entry in enumerate(file_test):\n",
    "    if idx < data_size_test:\n",
    "        data_test.append(json.loads(entry))\n",
    "    else:\n",
    "        break"
   ]
  },
  {
   "cell_type": "code",
   "execution_count": 10,
   "metadata": {},
   "outputs": [
    {
     "data": {
      "text/plain": [
       "1000"
      ]
     },
     "execution_count": 10,
     "metadata": {},
     "output_type": "execute_result"
    }
   ],
   "source": [
    "len(data_test)"
   ]
  },
  {
   "cell_type": "code",
   "execution_count": 11,
   "metadata": {},
   "outputs": [
    {
     "data": {
      "text/plain": [
       "dict_keys(['seniority_level', 'education', 'experience'])"
      ]
     },
     "execution_count": 11,
     "metadata": {},
     "output_type": "execute_result"
    }
   ],
   "source": [
    "data_test[0].keys()"
   ]
  },
  {
   "cell_type": "code",
   "execution_count": null,
   "metadata": {},
   "outputs": [],
   "source": []
  },
  {
   "cell_type": "code",
   "execution_count": 12,
   "metadata": {},
   "outputs": [],
   "source": [
    "df_test = pd.DataFrame(data_test)"
   ]
  },
  {
   "cell_type": "markdown",
   "metadata": {},
   "source": [
    "Featurization: duration"
   ]
  },
  {
   "cell_type": "code",
   "execution_count": 13,
   "metadata": {},
   "outputs": [],
   "source": [
    "def validate(date_text):\n",
    "    try:\n",
    "        datetime.strptime(date_text, '%Y-%m-%d')\n",
    "        return True\n",
    "    except ValueError:\n",
    "#         raise ValueError(\"Incorrect data format, should be YYYY-MM-DD\")\n",
    "        return False"
   ]
  },
  {
   "cell_type": "code",
   "execution_count": 14,
   "metadata": {},
   "outputs": [],
   "source": [
    "def days_between(d1, d2):\n",
    "    d1 = datetime.strptime(d1, \"%Y-%m-%d\")\n",
    "    d2 = datetime.strptime(d2, \"%Y-%m-%d\")\n",
    "    return abs((d2 - d1).days)"
   ]
  },
  {
   "cell_type": "code",
   "execution_count": 15,
   "metadata": {},
   "outputs": [],
   "source": [
    "df_train = pd.DataFrame(data_train)"
   ]
  },
  {
   "cell_type": "code",
   "execution_count": 16,
   "metadata": {},
   "outputs": [
    {
     "name": "stdout",
     "output_type": "stream",
     "text": [
      "<class 'pandas.core.frame.DataFrame'>\n",
      "RangeIndex: 1000 entries, 0 to 999\n",
      "Data columns (total 3 columns):\n",
      "education          1000 non-null object\n",
      "experience         1000 non-null object\n",
      "seniority_level    989 non-null object\n",
      "dtypes: object(3)\n",
      "memory usage: 23.5+ KB\n"
     ]
    }
   ],
   "source": [
    "df_train.info()"
   ]
  },
  {
   "cell_type": "code",
   "execution_count": 17,
   "metadata": {},
   "outputs": [
    {
     "data": {
      "text/html": [
       "<div>\n",
       "<style scoped>\n",
       "    .dataframe tbody tr th:only-of-type {\n",
       "        vertical-align: middle;\n",
       "    }\n",
       "\n",
       "    .dataframe tbody tr th {\n",
       "        vertical-align: top;\n",
       "    }\n",
       "\n",
       "    .dataframe thead th {\n",
       "        text-align: right;\n",
       "    }\n",
       "</style>\n",
       "<table border=\"1\" class=\"dataframe\">\n",
       "  <thead>\n",
       "    <tr style=\"text-align: right;\">\n",
       "      <th></th>\n",
       "      <th>education</th>\n",
       "      <th>experience</th>\n",
       "      <th>seniority_level</th>\n",
       "    </tr>\n",
       "  </thead>\n",
       "  <tbody>\n",
       "    <tr>\n",
       "      <th>0</th>\n",
       "      <td>[{'edited': None, 'school': 'Metropolitana Uni...</td>\n",
       "      <td>[{'edited': None, 'description': '', 'title': ...</td>\n",
       "      <td>Mid-Level</td>\n",
       "    </tr>\n",
       "    <tr>\n",
       "      <th>1</th>\n",
       "      <td>[{'edited': None, 'school': 'University of Mem...</td>\n",
       "      <td>[{'edited': None, 'description': 'I am current...</td>\n",
       "      <td>Senior</td>\n",
       "    </tr>\n",
       "    <tr>\n",
       "      <th>2</th>\n",
       "      <td>[{'edited': None, 'school': 'University of Wes...</td>\n",
       "      <td>[{'edited': None, 'description': '', 'title': ...</td>\n",
       "      <td>Entry</td>\n",
       "    </tr>\n",
       "    <tr>\n",
       "      <th>3</th>\n",
       "      <td>[{'edited': None, 'school': 'University of Mem...</td>\n",
       "      <td>[{'edited': None, 'description': 'Pulled order...</td>\n",
       "      <td>Mid-Level</td>\n",
       "    </tr>\n",
       "    <tr>\n",
       "      <th>4</th>\n",
       "      <td>[{'edited': None, 'school': 'DePaul University...</td>\n",
       "      <td>[{'edited': None, 'description': 'Associate Ma...</td>\n",
       "      <td>Manager</td>\n",
       "    </tr>\n",
       "  </tbody>\n",
       "</table>\n",
       "</div>"
      ],
      "text/plain": [
       "                                           education  \\\n",
       "0  [{'edited': None, 'school': 'Metropolitana Uni...   \n",
       "1  [{'edited': None, 'school': 'University of Mem...   \n",
       "2  [{'edited': None, 'school': 'University of Wes...   \n",
       "3  [{'edited': None, 'school': 'University of Mem...   \n",
       "4  [{'edited': None, 'school': 'DePaul University...   \n",
       "\n",
       "                                          experience seniority_level  \n",
       "0  [{'edited': None, 'description': '', 'title': ...       Mid-Level  \n",
       "1  [{'edited': None, 'description': 'I am current...          Senior  \n",
       "2  [{'edited': None, 'description': '', 'title': ...           Entry  \n",
       "3  [{'edited': None, 'description': 'Pulled order...       Mid-Level  \n",
       "4  [{'edited': None, 'description': 'Associate Ma...         Manager  "
      ]
     },
     "execution_count": 17,
     "metadata": {},
     "output_type": "execute_result"
    }
   ],
   "source": [
    "df_train.head()"
   ]
  },
  {
   "cell_type": "code",
   "execution_count": 18,
   "metadata": {},
   "outputs": [
    {
     "data": {
      "text/html": [
       "<div>\n",
       "<style scoped>\n",
       "    .dataframe tbody tr th:only-of-type {\n",
       "        vertical-align: middle;\n",
       "    }\n",
       "\n",
       "    .dataframe tbody tr th {\n",
       "        vertical-align: top;\n",
       "    }\n",
       "\n",
       "    .dataframe thead th {\n",
       "        text-align: right;\n",
       "    }\n",
       "</style>\n",
       "<table border=\"1\" class=\"dataframe\">\n",
       "  <thead>\n",
       "    <tr style=\"text-align: right;\">\n",
       "      <th></th>\n",
       "      <th>education</th>\n",
       "    </tr>\n",
       "  </thead>\n",
       "  <tbody>\n",
       "    <tr>\n",
       "      <th>0</th>\n",
       "      <td>[{'edited': None, 'school': 'Metropolitana Uni...</td>\n",
       "    </tr>\n",
       "    <tr>\n",
       "      <th>1</th>\n",
       "      <td>[{'edited': None, 'school': 'University of Mem...</td>\n",
       "    </tr>\n",
       "    <tr>\n",
       "      <th>2</th>\n",
       "      <td>[{'edited': None, 'school': 'University of Wes...</td>\n",
       "    </tr>\n",
       "    <tr>\n",
       "      <th>3</th>\n",
       "      <td>[{'edited': None, 'school': 'University of Mem...</td>\n",
       "    </tr>\n",
       "    <tr>\n",
       "      <th>4</th>\n",
       "      <td>[{'edited': None, 'school': 'DePaul University...</td>\n",
       "    </tr>\n",
       "  </tbody>\n",
       "</table>\n",
       "</div>"
      ],
      "text/plain": [
       "                                           education\n",
       "0  [{'edited': None, 'school': 'Metropolitana Uni...\n",
       "1  [{'edited': None, 'school': 'University of Mem...\n",
       "2  [{'edited': None, 'school': 'University of Wes...\n",
       "3  [{'edited': None, 'school': 'University of Mem...\n",
       "4  [{'edited': None, 'school': 'DePaul University..."
      ]
     },
     "execution_count": 18,
     "metadata": {},
     "output_type": "execute_result"
    }
   ],
   "source": [
    "df_train[['education']].head()"
   ]
  },
  {
   "cell_type": "code",
   "execution_count": 19,
   "metadata": {},
   "outputs": [
    {
     "data": {
      "text/plain": [
       "[{'edited': None,\n",
       "  'school': 'Metropolitana University',\n",
       "  'event_type': 'education',\n",
       "  'degree': 'Associates',\n",
       "  'major': 'International_Business',\n",
       "  'awards': [],\n",
       "  'abbr': '',\n",
       "  'time': ['2010-01-01', '2013-01-01'],\n",
       "  'duration': 1096,\n",
       "  'addl_json': {},\n",
       "  'image_url': None,\n",
       "  'description': 'International Business Graduate Diploma\\t2013 Metropolitana University'},\n",
       " {'edited': None,\n",
       "  'school': 'Jose Lorenzo Peres Rodriguez College',\n",
       "  'event_type': 'education',\n",
       "  'degree': 'Associates',\n",
       "  'major': 'Business_Administration_Management',\n",
       "  'awards': [],\n",
       "  'abbr': '',\n",
       "  'time': ['1998-01-01', '2001-01-01'],\n",
       "  'duration': 1096,\n",
       "  'addl_json': {},\n",
       "  'image_url': None,\n",
       "  'description': 'Business Administration Diploma (Major Marketing & Advertising)\\t2001 Jose Lorenzo Peres Rodriguez College'},\n",
       " {'edited': None,\n",
       "  'school': 'Andres Bello Catholic University',\n",
       "  'event_type': 'education',\n",
       "  'degree': 'Bachelors',\n",
       "  'major': 'Business_Administration_Management',\n",
       "  'awards': [],\n",
       "  'abbr': '',\n",
       "  'time': ['2004-01-01', '2009-01-01'],\n",
       "  'duration': 1827,\n",
       "  'addl_json': {},\n",
       "  'image_url': 'https://crunchbase-production-res.cloudinary.com/image/upload/c_lpad,h_120,w_120,f_jpg/v1409158796/b3wnwylpfmrcbssv6iht.jpg',\n",
       "  'description': 'Bachelor in Business Administration  (BBA)\\t2009 Andres Bello Catholic University'},\n",
       " {'edited': None,\n",
       "  'school': 'Centennial College',\n",
       "  'event_type': 'education',\n",
       "  'degree': 'Associates',\n",
       "  'major': 'Marketing',\n",
       "  'awards': [],\n",
       "  'abbr': '',\n",
       "  'time': ['2015-01-01', '2016-01-01'],\n",
       "  'duration': 365,\n",
       "  'addl_json': {},\n",
       "  'image_url': None,\n",
       "  'description': ''},\n",
       " {'edited': None,\n",
       "  'school': 'Centennial College',\n",
       "  'event_type': 'education',\n",
       "  'degree': 'Associates',\n",
       "  'major': 'Media',\n",
       "  'awards': [],\n",
       "  'abbr': '',\n",
       "  'time': ['2016-01-01', '2017-01-01'],\n",
       "  'duration': 366,\n",
       "  'addl_json': {},\n",
       "  'image_url': None,\n",
       "  'description': ''}]"
      ]
     },
     "execution_count": 19,
     "metadata": {},
     "output_type": "execute_result"
    }
   ],
   "source": [
    "df_train['education'][0]"
   ]
  },
  {
   "cell_type": "code",
   "execution_count": 20,
   "metadata": {},
   "outputs": [
    {
     "name": "stdout",
     "output_type": "stream",
     "text": [
      "0\n"
     ]
    }
   ],
   "source": [
    "education_days = []\n",
    "invalid_count = 0\n",
    "for idx, edu in enumerate(df_train['education']):\n",
    "    total_edu_day = 0\n",
    "    for e in edu:\n",
    "        diff_day = 0\n",
    "        if e['time'] and len(e['time']) == 2:\n",
    "            start = e['time'][0]\n",
    "            end =  e['time'][1]\n",
    "            if validate(start) and validate(end):\n",
    "                diff_day = days_between(start, end)\n",
    "#                 print(diff_day)\n",
    "                total_edu_day += diff_day\n",
    "#             else:\n",
    "#                 print(\"undefined date form. \", e['time'])\n",
    "#         else:\n",
    "#             print(\"  time is empty or wrong formate. \", e['time'])\n",
    "#     print(total_edu_day)\n",
    "\n",
    "    if total_edu_day > 25*365: # assume the max education is 25 years\n",
    "        total_edu_day = -1\n",
    "        invalid_count += 1\n",
    "        \n",
    "    education_days.append(total_edu_day)\n",
    "    \n",
    "df_train['education_days'] = education_days\n",
    "print(invalid_count)"
   ]
  },
  {
   "cell_type": "code",
   "execution_count": 21,
   "metadata": {},
   "outputs": [
    {
     "name": "stdout",
     "output_type": "stream",
     "text": [
      "339\n"
     ]
    }
   ],
   "source": [
    "experience_days = []\n",
    "invalid_count = 0\n",
    "for idx, exp in enumerate(df_train['experience']):\n",
    "    total_exp_day = 0\n",
    "    for e in exp:\n",
    "        diff_day = 0\n",
    "        if e['time'] and len(e['time']) == 2:\n",
    "            start = e['time'][0]\n",
    "            end =  e['time'][1]\n",
    "            if end == 'Present' or 'current': # code dirty temporarily \n",
    "                end = '2019-08-02'\n",
    "            if validate(start) and validate(end):\n",
    "                diff_day = days_between(start, end)\n",
    "#                 print(diff_day)\n",
    "                total_exp_day += diff_day\n",
    "#             else:\n",
    "#                 print(\"undefined date form. \", e['time'])\n",
    "#         else:\n",
    "#             print(\"  time is empty or wrong format. \", e['time'])\n",
    "#     print(total_exp_day)\n",
    "    \n",
    "    if total_exp_day > 50*365: # assume the max experience is 50 years\n",
    "        total_exp_day = -1\n",
    "        invalid_count += 1\n",
    "    experience_days.append(total_exp_day)\n",
    "    \n",
    "df_train['experience_days'] = experience_days\n",
    "\n",
    "print(invalid_count)"
   ]
  },
  {
   "cell_type": "code",
   "execution_count": 22,
   "metadata": {},
   "outputs": [
    {
     "data": {
      "text/html": [
       "<div>\n",
       "<style scoped>\n",
       "    .dataframe tbody tr th:only-of-type {\n",
       "        vertical-align: middle;\n",
       "    }\n",
       "\n",
       "    .dataframe tbody tr th {\n",
       "        vertical-align: top;\n",
       "    }\n",
       "\n",
       "    .dataframe thead th {\n",
       "        text-align: right;\n",
       "    }\n",
       "</style>\n",
       "<table border=\"1\" class=\"dataframe\">\n",
       "  <thead>\n",
       "    <tr style=\"text-align: right;\">\n",
       "      <th></th>\n",
       "      <th>education</th>\n",
       "      <th>experience</th>\n",
       "      <th>seniority_level</th>\n",
       "      <th>education_days</th>\n",
       "      <th>experience_days</th>\n",
       "    </tr>\n",
       "  </thead>\n",
       "  <tbody>\n",
       "    <tr>\n",
       "      <th>0</th>\n",
       "      <td>[{'edited': None, 'school': 'Metropolitana Uni...</td>\n",
       "      <td>[{'edited': None, 'description': '', 'title': ...</td>\n",
       "      <td>Mid-Level</td>\n",
       "      <td>4750</td>\n",
       "      <td>-1</td>\n",
       "    </tr>\n",
       "    <tr>\n",
       "      <th>1</th>\n",
       "      <td>[{'edited': None, 'school': 'University of Mem...</td>\n",
       "      <td>[{'edited': None, 'description': 'I am current...</td>\n",
       "      <td>Senior</td>\n",
       "      <td>2099</td>\n",
       "      <td>10866</td>\n",
       "    </tr>\n",
       "    <tr>\n",
       "      <th>2</th>\n",
       "      <td>[{'edited': None, 'school': 'University of Wes...</td>\n",
       "      <td>[{'edited': None, 'description': '', 'title': ...</td>\n",
       "      <td>Entry</td>\n",
       "      <td>1461</td>\n",
       "      <td>14247</td>\n",
       "    </tr>\n",
       "    <tr>\n",
       "      <th>3</th>\n",
       "      <td>[{'edited': None, 'school': 'University of Mem...</td>\n",
       "      <td>[{'edited': None, 'description': 'Pulled order...</td>\n",
       "      <td>Mid-Level</td>\n",
       "      <td>61</td>\n",
       "      <td>-1</td>\n",
       "    </tr>\n",
       "    <tr>\n",
       "      <th>4</th>\n",
       "      <td>[{'edited': None, 'school': 'DePaul University...</td>\n",
       "      <td>[{'edited': None, 'description': 'Associate Ma...</td>\n",
       "      <td>Manager</td>\n",
       "      <td>0</td>\n",
       "      <td>-1</td>\n",
       "    </tr>\n",
       "  </tbody>\n",
       "</table>\n",
       "</div>"
      ],
      "text/plain": [
       "                                           education  \\\n",
       "0  [{'edited': None, 'school': 'Metropolitana Uni...   \n",
       "1  [{'edited': None, 'school': 'University of Mem...   \n",
       "2  [{'edited': None, 'school': 'University of Wes...   \n",
       "3  [{'edited': None, 'school': 'University of Mem...   \n",
       "4  [{'edited': None, 'school': 'DePaul University...   \n",
       "\n",
       "                                          experience seniority_level  \\\n",
       "0  [{'edited': None, 'description': '', 'title': ...       Mid-Level   \n",
       "1  [{'edited': None, 'description': 'I am current...          Senior   \n",
       "2  [{'edited': None, 'description': '', 'title': ...           Entry   \n",
       "3  [{'edited': None, 'description': 'Pulled order...       Mid-Level   \n",
       "4  [{'edited': None, 'description': 'Associate Ma...         Manager   \n",
       "\n",
       "   education_days  experience_days  \n",
       "0            4750               -1  \n",
       "1            2099            10866  \n",
       "2            1461            14247  \n",
       "3              61               -1  \n",
       "4               0               -1  "
      ]
     },
     "execution_count": 22,
     "metadata": {},
     "output_type": "execute_result"
    }
   ],
   "source": [
    "df_train.head()"
   ]
  },
  {
   "cell_type": "code",
   "execution_count": 23,
   "metadata": {},
   "outputs": [
    {
     "data": {
      "text/html": [
       "<div>\n",
       "<style scoped>\n",
       "    .dataframe tbody tr th:only-of-type {\n",
       "        vertical-align: middle;\n",
       "    }\n",
       "\n",
       "    .dataframe tbody tr th {\n",
       "        vertical-align: top;\n",
       "    }\n",
       "\n",
       "    .dataframe thead th {\n",
       "        text-align: right;\n",
       "    }\n",
       "</style>\n",
       "<table border=\"1\" class=\"dataframe\">\n",
       "  <thead>\n",
       "    <tr style=\"text-align: right;\">\n",
       "      <th></th>\n",
       "      <th>education</th>\n",
       "      <th>experience</th>\n",
       "      <th>seniority_level</th>\n",
       "    </tr>\n",
       "  </thead>\n",
       "  <tbody>\n",
       "    <tr>\n",
       "      <th>count</th>\n",
       "      <td>1000</td>\n",
       "      <td>1000</td>\n",
       "      <td>989</td>\n",
       "    </tr>\n",
       "    <tr>\n",
       "      <th>unique</th>\n",
       "      <td>891</td>\n",
       "      <td>934</td>\n",
       "      <td>8</td>\n",
       "    </tr>\n",
       "    <tr>\n",
       "      <th>top</th>\n",
       "      <td>[]</td>\n",
       "      <td>[]</td>\n",
       "      <td>Mid-Level</td>\n",
       "    </tr>\n",
       "    <tr>\n",
       "      <th>freq</th>\n",
       "      <td>109</td>\n",
       "      <td>67</td>\n",
       "      <td>351</td>\n",
       "    </tr>\n",
       "  </tbody>\n",
       "</table>\n",
       "</div>"
      ],
      "text/plain": [
       "       education experience seniority_level\n",
       "count       1000       1000             989\n",
       "unique       891        934               8\n",
       "top           []         []       Mid-Level\n",
       "freq         109         67             351"
      ]
     },
     "execution_count": 23,
     "metadata": {},
     "output_type": "execute_result"
    }
   ],
   "source": [
    "df_train.describe(include = ['object'])"
   ]
  },
  {
   "cell_type": "code",
   "execution_count": 24,
   "metadata": {},
   "outputs": [
    {
     "data": {
      "text/html": [
       "<div>\n",
       "<style scoped>\n",
       "    .dataframe tbody tr th:only-of-type {\n",
       "        vertical-align: middle;\n",
       "    }\n",
       "\n",
       "    .dataframe tbody tr th {\n",
       "        vertical-align: top;\n",
       "    }\n",
       "\n",
       "    .dataframe thead th {\n",
       "        text-align: right;\n",
       "    }\n",
       "</style>\n",
       "<table border=\"1\" class=\"dataframe\">\n",
       "  <thead>\n",
       "    <tr style=\"text-align: right;\">\n",
       "      <th></th>\n",
       "      <th>education_days</th>\n",
       "      <th>experience_days</th>\n",
       "    </tr>\n",
       "  </thead>\n",
       "  <tbody>\n",
       "    <tr>\n",
       "      <th>count</th>\n",
       "      <td>1000.000000</td>\n",
       "      <td>1000.000000</td>\n",
       "    </tr>\n",
       "    <tr>\n",
       "      <th>mean</th>\n",
       "      <td>593.846000</td>\n",
       "      <td>4819.584000</td>\n",
       "    </tr>\n",
       "    <tr>\n",
       "      <th>std</th>\n",
       "      <td>1082.420445</td>\n",
       "      <td>5635.242852</td>\n",
       "    </tr>\n",
       "    <tr>\n",
       "      <th>min</th>\n",
       "      <td>0.000000</td>\n",
       "      <td>-1.000000</td>\n",
       "    </tr>\n",
       "    <tr>\n",
       "      <th>25%</th>\n",
       "      <td>0.000000</td>\n",
       "      <td>-1.000000</td>\n",
       "    </tr>\n",
       "    <tr>\n",
       "      <th>50%</th>\n",
       "      <td>0.000000</td>\n",
       "      <td>2360.500000</td>\n",
       "    </tr>\n",
       "    <tr>\n",
       "      <th>75%</th>\n",
       "      <td>1095.000000</td>\n",
       "      <td>8979.500000</td>\n",
       "    </tr>\n",
       "    <tr>\n",
       "      <th>max</th>\n",
       "      <td>7737.000000</td>\n",
       "      <td>18174.000000</td>\n",
       "    </tr>\n",
       "  </tbody>\n",
       "</table>\n",
       "</div>"
      ],
      "text/plain": [
       "       education_days  experience_days\n",
       "count     1000.000000      1000.000000\n",
       "mean       593.846000      4819.584000\n",
       "std       1082.420445      5635.242852\n",
       "min          0.000000        -1.000000\n",
       "25%          0.000000        -1.000000\n",
       "50%          0.000000      2360.500000\n",
       "75%       1095.000000      8979.500000\n",
       "max       7737.000000     18174.000000"
      ]
     },
     "execution_count": 24,
     "metadata": {},
     "output_type": "execute_result"
    }
   ],
   "source": [
    "df_train.describe(include = ['number'])"
   ]
  },
  {
   "cell_type": "code",
   "execution_count": 25,
   "metadata": {},
   "outputs": [
    {
     "data": {
      "text/plain": [
       "<matplotlib.axes._subplots.AxesSubplot at 0x1a1ef88d68>"
      ]
     },
     "execution_count": 25,
     "metadata": {},
     "output_type": "execute_result"
    },
    {
     "data": {
      "image/png": "[encoded data removed]",
      "text/plain": [
       "<Figure size 1152x720 with 2 Axes>"
      ]
     },
     "metadata": {
      "needs_background": "light"
     },
     "output_type": "display_data"
    }
   ],
   "source": [
    "#Univariate Data Analysis\n",
    "fig, axes = plt.subplots(1, 2, figsize = (16,10) )\n",
    "sns.distplot(df_train['education_days'], ax = axes[0])\n",
    "sns.distplot(df_train['experience_days'], ax = axes[1])\n",
    "# sns.distplot(df_train['education_days'], fit=norm, ax = axes[0])\n",
    "# sns.distplot(df_train['experience_days'], fit=norm, ax = axes[1])"
   ]
  },
  {
   "cell_type": "code",
   "execution_count": 26,
   "metadata": {},
   "outputs": [
    {
     "data": {
      "image/png": "[encoded data removed]",
      "text/plain": [
       "<Figure size 1152x576 with 1 Axes>"
      ]
     },
     "metadata": {
      "needs_background": "light"
     },
     "output_type": "display_data"
    }
   ],
   "source": [
    "fig, ax = plt.subplots(figsize=(16,8))\n",
    "ax.scatter(df_train['education_days'], df_train['experience_days'])\n",
    "ax.set_xlabel('Education Days')\n",
    "ax.set_ylabel('Work Experience Days')\n",
    "plt.show()"
   ]
  },
  {
   "cell_type": "code",
   "execution_count": 27,
   "metadata": {},
   "outputs": [],
   "source": [
    "train_df = df_train.copy()\n",
    "test_df = df_test.copy()"
   ]
  },
  {
   "cell_type": "code",
   "execution_count": 28,
   "metadata": {},
   "outputs": [
    {
     "name": "stdout",
     "output_type": "stream",
     "text": [
      "339\n"
     ]
    }
   ],
   "source": [
    "# further cleaning data\n",
    "\n",
    "drop_exp_list = []\n",
    "for idx, e in enumerate(train_df['experience_days']):\n",
    "    if e == -1:\n",
    "        drop_exp_list.append(idx)\n",
    "#         print(idx, edu)\n",
    "        \n",
    "print(len(drop_exp_list))\n",
    "    \n",
    "train_df = train_df.drop(drop_exp_list)"
   ]
  },
  {
   "cell_type": "code",
   "execution_count": 29,
   "metadata": {},
   "outputs": [
    {
     "name": "stdout",
     "output_type": "stream",
     "text": [
      "0\n"
     ]
    }
   ],
   "source": [
    "# further cleaning data\n",
    "\n",
    "drop_edu_list = []\n",
    "for idx, e in enumerate(train_df['education_days']):\n",
    "    if e == -1:\n",
    "        drop_edu_list.append(idx)\n",
    "        \n",
    "print(len(drop_edu_list))\n",
    "    \n",
    "train_df = train_df.drop(drop_edu_list)"
   ]
  },
  {
   "cell_type": "code",
   "execution_count": 30,
   "metadata": {},
   "outputs": [
    {
     "data": {
      "text/html": [
       "<div>\n",
       "<style scoped>\n",
       "    .dataframe tbody tr th:only-of-type {\n",
       "        vertical-align: middle;\n",
       "    }\n",
       "\n",
       "    .dataframe tbody tr th {\n",
       "        vertical-align: top;\n",
       "    }\n",
       "\n",
       "    .dataframe thead th {\n",
       "        text-align: right;\n",
       "    }\n",
       "</style>\n",
       "<table border=\"1\" class=\"dataframe\">\n",
       "  <thead>\n",
       "    <tr style=\"text-align: right;\">\n",
       "      <th></th>\n",
       "      <th>education_days</th>\n",
       "      <th>experience_days</th>\n",
       "    </tr>\n",
       "  </thead>\n",
       "  <tbody>\n",
       "    <tr>\n",
       "      <th>count</th>\n",
       "      <td>661.000000</td>\n",
       "      <td>661.000000</td>\n",
       "    </tr>\n",
       "    <tr>\n",
       "      <th>mean</th>\n",
       "      <td>561.680787</td>\n",
       "      <td>7291.865356</td>\n",
       "    </tr>\n",
       "    <tr>\n",
       "      <th>std</th>\n",
       "      <td>1010.079454</td>\n",
       "      <td>5478.106022</td>\n",
       "    </tr>\n",
       "    <tr>\n",
       "      <th>min</th>\n",
       "      <td>0.000000</td>\n",
       "      <td>0.000000</td>\n",
       "    </tr>\n",
       "    <tr>\n",
       "      <th>25%</th>\n",
       "      <td>0.000000</td>\n",
       "      <td>2522.000000</td>\n",
       "    </tr>\n",
       "    <tr>\n",
       "      <th>50%</th>\n",
       "      <td>0.000000</td>\n",
       "      <td>6910.000000</td>\n",
       "    </tr>\n",
       "    <tr>\n",
       "      <th>75%</th>\n",
       "      <td>1095.000000</td>\n",
       "      <td>11599.000000</td>\n",
       "    </tr>\n",
       "    <tr>\n",
       "      <th>max</th>\n",
       "      <td>5479.000000</td>\n",
       "      <td>18174.000000</td>\n",
       "    </tr>\n",
       "  </tbody>\n",
       "</table>\n",
       "</div>"
      ],
      "text/plain": [
       "       education_days  experience_days\n",
       "count      661.000000       661.000000\n",
       "mean       561.680787      7291.865356\n",
       "std       1010.079454      5478.106022\n",
       "min          0.000000         0.000000\n",
       "25%          0.000000      2522.000000\n",
       "50%          0.000000      6910.000000\n",
       "75%       1095.000000     11599.000000\n",
       "max       5479.000000     18174.000000"
      ]
     },
     "execution_count": 30,
     "metadata": {},
     "output_type": "execute_result"
    }
   ],
   "source": [
    "train_df.describe(include = ['number'])"
   ]
  },
  {
   "cell_type": "code",
   "execution_count": 31,
   "metadata": {},
   "outputs": [
    {
     "name": "stdout",
     "output_type": "stream",
     "text": [
      "<class 'pandas.core.frame.DataFrame'>\n",
      "Int64Index: 661 entries, 1 to 999\n",
      "Data columns (total 5 columns):\n",
      "education          661 non-null object\n",
      "experience         661 non-null object\n",
      "seniority_level    655 non-null object\n",
      "education_days     661 non-null int64\n",
      "experience_days    661 non-null int64\n",
      "dtypes: int64(2), object(3)\n",
      "memory usage: 31.0+ KB\n"
     ]
    }
   ],
   "source": [
    "train_df.dropna()\n",
    "train_df.info()"
   ]
  },
  {
   "cell_type": "code",
   "execution_count": 32,
   "metadata": {},
   "outputs": [
    {
     "data": {
      "image/png": "[encoded data removed]",
      "text/plain": [
       "<Figure size 1152x576 with 1 Axes>"
      ]
     },
     "metadata": {
      "needs_background": "light"
     },
     "output_type": "display_data"
    }
   ],
   "source": [
    "fig, ax = plt.subplots(figsize=(16,8))\n",
    "ax.scatter(train_df['education_days'], train_df['experience_days'])\n",
    "ax.set_xlabel('Education Days')\n",
    "ax.set_ylabel('Work Experience Days')\n",
    "plt.show()"
   ]
  },
  {
   "cell_type": "code",
   "execution_count": 33,
   "metadata": {},
   "outputs": [],
   "source": [
    "# X = train_df[['education_days']]\n",
    "# # Y = train_df['experience_days']\n",
    "# Y = pd.factorize(train_df['experience_days'])[0].reshape(-1, 1) \n",
    "\n",
    "# # y.shape should be (N, 1)\n",
    "# # y = mydata['label'] \n",
    "# # perform label encoding if \"label\" contains strings\n",
    "# # y = pd.factorize(mydata['label'])[0].reshape(-1, 1) \n",
    "# # exampe: https://stackoverflow.com/questions/46638641/how-to-fix-valueerror-expected-2d-array-got-1d-array-instead-in-sklearn-pyth"
   ]
  },
  {
   "cell_type": "code",
   "execution_count": 34,
   "metadata": {},
   "outputs": [],
   "source": [
    "X = train_df[['education_days', 'experience_days']]\n",
    "# Y = train_df['experience_days']\n",
    "Y = pd.factorize(train_df['seniority_level'])[0].reshape(-1, 1) \n"
   ]
  },
  {
   "cell_type": "code",
   "execution_count": 35,
   "metadata": {},
   "outputs": [
    {
     "name": "stdout",
     "output_type": "stream",
     "text": [
      "Train features & target\n",
      "(528, 2) (528, 1)\n",
      "Test features & target\n",
      "(133, 2) (133, 1)\n"
     ]
    }
   ],
   "source": [
    "X_train, X_test, Y_train, Y_test = train_test_split(X, Y, test_size=0.20, random_state=3)\n",
    "print(\"Train features & target\")\n",
    "print(X_train.shape, Y_train.shape)\n",
    "print(\"Test features & target\")\n",
    "print(X_test.shape, Y_test.shape)"
   ]
  },
  {
   "cell_type": "code",
   "execution_count": 36,
   "metadata": {},
   "outputs": [],
   "source": [
    "# Y_test"
   ]
  },
  {
   "cell_type": "code",
   "execution_count": 37,
   "metadata": {},
   "outputs": [
    {
     "name": "stderr",
     "output_type": "stream",
     "text": [
      "/Users/jefferyyu/anaconda3/lib/python3.7/site-packages/sklearn/model_selection/_split.py:652: Warning: The least populated class in y has only 2 members, which is too few. The minimum number of members in any class cannot be less than n_splits=10.\n",
      "  % (min_groups, self.n_splits)), Warning)\n"
     ]
    },
    {
     "name": "stdout",
     "output_type": "stream",
     "text": [
      "Best Score: 0.4943181818181818\n",
      "Best params: {'criterion': 'gini', 'max_depth': None, 'max_leaf_nodes': 5, 'min_samples_leaf': 10, 'min_samples_split': 2}\n"
     ]
    },
    {
     "name": "stderr",
     "output_type": "stream",
     "text": [
      "/Users/jefferyyu/anaconda3/lib/python3.7/site-packages/sklearn/model_selection/_search.py:841: DeprecationWarning: The default of the `iid` parameter will change from True to False in version 0.22 and will be removed in 0.24. This will change numeric results when test-set sizes are unequal.\n",
      "  DeprecationWarning)\n"
     ]
    }
   ],
   "source": [
    "# Decision Tree with k-fold (k=10)\n",
    "decision_tree_classifier = DecisionTreeClassifier()\n",
    "\n",
    "parameter_grid = {\"criterion\": [\"gini\", \"entropy\"],\n",
    "              \"min_samples_split\": [2, 10, 20],\n",
    "              \"max_depth\": [None, 2, 5, 10],\n",
    "              \"min_samples_leaf\": [1, 5, 10],\n",
    "              \"max_leaf_nodes\": [None, 5, 10, 20],\n",
    "              }\n",
    "\n",
    "grid_search = GridSearchCV(decision_tree_classifier, param_grid = parameter_grid, cv = 10)\n",
    "\n",
    "grid_search.fit(X_train, Y_train)\n",
    "\n",
    "print (\"Best Score: {}\".format(grid_search.best_score_))\n",
    "print (\"Best params: {}\".format(grid_search.best_params_))"
   ]
  },
  {
   "cell_type": "code",
   "execution_count": 41,
   "metadata": {},
   "outputs": [
    {
     "name": "stdout",
     "output_type": "stream",
     "text": [
      "-- Testing best parameters [Grid]...\n",
      "Scores:  [0.51724138 0.48148148 0.33333333 0.40740741 0.34782609]\n",
      "Mean: 0.4174579376978178\n",
      "Standard Deviation: 0.07222507353394239\n",
      "Accuracy: 0.417 (+/- 0.144)\n"
     ]
    },
    {
     "name": "stderr",
     "output_type": "stream",
     "text": [
      "/Users/jefferyyu/anaconda3/lib/python3.7/site-packages/sklearn/model_selection/_split.py:652: Warning: The least populated class in y has only 4 members, which is too few. The minimum number of members in any class cannot be less than n_splits=5.\n",
      "  % (min_groups, self.n_splits)), Warning)\n"
     ]
    }
   ],
   "source": [
    "best_est = grid_search.best_estimator_\n",
    "clf = best_est.fit(X_train, Y_train)\n",
    "\n",
    "# Decision Tree with k-fold (k=10)\n",
    "# test the retuned best parameters\n",
    "print(\"-- Testing best parameters [Grid]...\")\n",
    "# scores = cross_val_score(best_est, X_train, Y_train, cv=5)\n",
    "\n",
    "scores = cross_val_score(best_est, X_test, Y_test, cv=5)\n",
    "# scores.sort()\n",
    "print(\"Scores: \", scores)\n",
    "print(\"Mean:\", scores.mean())\n",
    "print(\"Standard Deviation:\", scores.std())\n",
    "print(\"Accuracy: %0.3f (+/- %0.3f)\" % (scores.mean(), scores.std() * 2))\n"
   ]
  },
  {
   "cell_type": "code",
   "execution_count": 42,
   "metadata": {},
   "outputs": [
    {
     "data": {
      "text/plain": [
       "0.37593984962406013"
      ]
     },
     "execution_count": 42,
     "metadata": {},
     "output_type": "execute_result"
    }
   ],
   "source": [
    "# Decision Tree for held-out testing data\n",
    "decision_tree = DecisionTreeClassifier()\n",
    "clf = decision_tree.fit(X_train, Y_train)\n",
    "decision_tree.score(X_test, Y_test)"
   ]
  },
  {
   "cell_type": "code",
   "execution_count": null,
   "metadata": {},
   "outputs": [],
   "source": []
  }
 ],
 "metadata": {
  "kernelspec": {
   "display_name": "Python 3",
   "language": "python",
   "name": "python3"
  },
  "language_info": {
   "codemirror_mode": {
    "name": "ipython",
    "version": 3
   },
   "file_extension": ".py",
   "mimetype": "text/x-python",
   "name": "python",
   "nbconvert_exporter": "python",
   "pygments_lexer": "ipython3",
   "version": "3.7.3"
  }
 },
 "nbformat": 4,
 "nbformat_minor": 2
}
